{
 "cells": [
  {
   "cell_type": "code",
   "execution_count": 1,
   "metadata": {
    "colab": {
     "base_uri": "https://localhost:8080/",
     "height": 500,
     "referenced_widgets": [
      "17a6a311e1cf4075b3fbe7be2a5fe85a",
      "e7fa627bdce44e848b53568712746843",
      "1103e92ddc604847a7fa840d63c99882",
      "38f6809f4c404bd4989f1a248bee1131",
      "4c1e437b4f8d4fd7bacaf799b80bb06c",
      "de2940c196a94268bfd0ffd18683098d",
      "1642e329b5784e1ca986a394b8077ce4",
      "13b305cb763a4559baf0236c18491b73",
      "2bd19a7b6b5e477d91c039b7c0618edc",
      "39c63fcd810e4d3e842b1154e0ce3315",
      "b98f6752ba504419959cf61f412a5971",
      "a1d0686d77f74d44a4e6e5c4d8385f08",
      "9afa3fed51f3420e8e6fb3ed50fd6f67",
      "274c8aad48e941fd9bef4d864b397448",
      "3ac7b59f44e34061be33a43893b38253",
      "ac4426df3fa94217957b9ce0c339bf6d",
      "29780d5908264a3c9f75f1c002c506a8",
      "a40fe3e651ed40eeb0a026bb1d69ac26",
      "137d3a675d154df1b6149874fcc13ea4",
      "40d776f0d08243d8a384c7f833380f6c",
      "f0d75c82e8c64240a086f198c7281dab",
      "955b1412d7884ddea04ace2a9a83a21d",
      "14899d3a714d4779a18e929b1d8e5cbd",
      "ced2c23a0e0948a7875c8e31bcbe0e82",
      "f18221151d1842408f5961cc80eb04f8",
      "5b9008661f3d4c888dfbceee34700316",
      "5ccb739151844dba9dd78d59a15bf280",
      "cfb0f73dca754a35ad93f873345e1afa",
      "8eee11ebe0254551a80ddfd4f08062bf",
      "76b9039f6d49422b9e0925519dfa21cd",
      "a96480cd52bd4cc9844b40e64c236c68",
      "fd89fc37fe744a44bc8e00f53e2b1cff",
      "8e661cb84f204909b69e28acce495369",
      "be3724d670f946d79f83b320511c2781",
      "c106591477d6413795df2f4d05200fa3",
      "9a31ca10063740adb564e63b74dfa6a4",
      "e292ac459e5b468f8a87e73fd7f8a6d0",
      "1b3696f16e0747169445dd2fe1668b6a",
      "8e945292b7514d69bc97e878bdcbe78b",
      "de17757a27004165b68d1224fe018041",
      "0d5044762ae246dbb7433cea4c5b73ae",
      "4bb87c0bb44c42ceb926d6797fb59667",
      "58540c62c47a4cea87ec18e42dfaffcc",
      "d1a75adef7f54b99b2f90de22d106f47",
      "9a8f151ece60417592f16207e6a2a237",
      "349bd3969b57440fa88ff4d5b0e8f6f5",
      "f254f53c78c64ae6a468387b5cad805f",
      "210e142d38324104aae5db7a14a967c7",
      "420011d9b15647748084fb2a747a5e2a",
      "83a5706c04d24ddda37daebcc4cd05fe",
      "bf21dc1fc8f04e73baf6481b1741176b",
      "c23c87eff71645e29f6526abc3cf31e5",
      "93ef482d73814c21959c24181112a537",
      "5fcf95cbc3e549f983ee55b94293df97",
      "2bc221d9142345eda9749ab1d7d45e55",
      "3107efc76eeb47dcab80270ea164b084",
      "1fa581a196314a3a817d6c7024e78566",
      "e6a25fe87a374852acfee553890ce67b",
      "33054b3316a6460181c8173fd34564ec",
      "6ba981def1144df8b21e9845a5c68073",
      "c1c890ddbe83426dbcbaf67e443618cf",
      "4e5d8fccc83e472da32ff8eb5312e2ae",
      "cd8f878070774448a4c853650370b00d",
      "71947f1e66bb4bfda140dda3da7070bd",
      "3bf454d337bd4bbcac7fa344a547ed04",
      "20b6741bd61e4e1b8896d6d8ce85c922",
      "027d4fc360f240708088a2642ff881b7",
      "bceffe50f676424d9694c9c168e4f83e",
      "3a87542fd5144868b12d70a69a57a1a4",
      "14156bbbcc0f4fb8a1c76d8a6478b537",
      "be45c4c652474cfa9289c208fc43db13",
      "9f2e28657add49b18d0974ec19db74bc",
      "4bf3784dcae04b26ba1448b8520cc6dc",
      "bc1ad8027abd43eebf985293ab0b6646",
      "5faa6d565c7e44809de9f6eab61dbfbc",
      "b2e81db94eec4452ab95e28171fc8839",
      "31f4e20a43094a9c88c71fac3a23097b",
      "59dd8fc1cdb047808cb274a4a29ff065",
      "16adfb6cf41a4dda957c601134a2bf1b",
      "15e90ff142924eebb25a0ca91c7f429f",
      "a95c862d6a634b0cb0efec4fd08f3d87",
      "beecda4109bc47a1ac9eb80a8b1d142d",
      "26479a30c74648ec9764b6ddc550faa2",
      "6fb945b7f13440f6a7ad2c975ab4cf31",
      "a6108adfdbcd4da8abcb77fd212729dc",
      "8b1767efd8b84dcba7c45c3d46d38220",
      "7e9fc8ecc6a5499096946de4bccef85e",
      "0ea078f9983b4a19b306d4b184c73092",
      "b527f934786d4f4ea653d07fc08ce680",
      "bc04011ea21942d0a12eab0a0d11d751",
      "f5ce46e7e5404abfacd717adabbc9a12",
      "6abd08a9ac584c6689acf416447713a3",
      "ff8c955e299e4b82ae69301d14d97061",
      "431e81bbbfb7458e98d7e061302669f8",
      "aca9df50c6d44b9aa020edb0e456508a",
      "10456b760fa741c0a1b188977e293c66",
      "3574dffa5f66406c831efb0c629b58f9",
      "9a578640cac24db8b16eda7cad1ce2b1",
      "444fb06b742148078ac1894a4b18d5ec",
      "f5b0a2a9d5fd4ac691960c74e6cca59e",
      "a27ff14a90f14f8fae05f8c5194b4ca3",
      "6bf4ad21a1504ff9a46bea8615562a7f",
      "4796f6d463854b38bc46e33ff618975b",
      "6b6f4e62b3714e588efc80d5b6784d86",
      "3c735c5ed1e346d8b703738fc20d1044",
      "b6ab4cb1ec124048855d01cc77e8e616",
      "257873ba197e424296d06fd1dfe980ab",
      "3c009e470f004d368cb5a15a229d7b04",
      "63cd297a712d4b8d80a0f5d3b1e1c524",
      "c95c350b886041fca939e6ca387daf4d",
      "40bf3ee50fe1425992b9a932cce357df",
      "c4c99acb10934052bd0dafbcb61911c2",
      "90fa753d3d254d8ab5485da6ae6ef859",
      "35a385f6bae7423d98e972f2dbfa5816",
      "ad3e0bbc506e497cab3cc0f1768e8f52",
      "1a32276f5475435bb2c575dec341eb7a",
      "9308307723c147a9a9e70223e64c99d2",
      "03f399c38a2b4f3c9ba86c98bf234299",
      "1083a59b9084401195f37a825fc35830",
      "1545790db8044ba2a74f74f996d6e84a",
      "2c6360f811004e50a77f89372e0856e2",
      "4af91269ddcd4ef0b2228484c1cb263a",
      "764c743a0bb74e6fb85a8143144f95fa",
      "ca1169718fb84dbbb9bfcfb917cb3471",
      "4a6380be4c4847268e13263645288069",
      "bdcd18733c2c4f0abdbad60da9b9b6cb",
      "addb4325205647b8b77ea092df715583",
      "a41379e441164536902feff3b7a0c458",
      "2e34ffa1e2254c9aa0b45cc08926d4e5",
      "8153bf72a33d491f8ecfe03a4e6662b8",
      "e95610408b544165a068c5ca8cedb79a",
      "d300e8ee35644d6481affde09af6ded3",
      "a9b637ece66d4139a4633796a873bd8f",
      "007beb3f76f84367974ce8c9332ab10f",
      "82df0c36aa5440d3988364be68787e3a",
      "73ac9735f63041e4b1ea277550ba1a6d",
      "889b82a463004d2ebb865a1cf07c6aa4",
      "98f06c9173b54865acda42de13ca879a",
      "5ec40b694de548308f3c4474f2334a9a",
      "79143eb1092d40059323ffdb50f39fe2",
      "7a11028585e44ad290b707b5b99ec5be",
      "3385660ca98741c38a1d734deb3dc2b1",
      "9c2ddc68884b4ed792e83a40517657bd",
      "d90dc068ab7f46aabc9623e576968a22",
      "f0fad415913940aabf19943f4b3ba698",
      "15f0ed4f00b248c09ed26af35b5b8e8a",
      "f753efb7584f4d1587a209e6e4e89161",
      "a712beb9eff64a4bae9d0a42b6c38b9f",
      "5629b9bf1f7f4069989c75686ce72573",
      "80a41f2926a14c23bad26a6e132eb606",
      "de81cda4c2964878bcada79db4ae3333",
      "64d697bc0cde42baa528144bbcdd1ffe",
      "162e2da5034644b7af610fcd12a82224",
      "832b60dc2a00450eb011f8ebd78774f9"
     ]
    },
    "id": "gxSbuLRY6NpP",
    "outputId": "c76d6a16-ff39-40f8-aae1-e226d98fcd03"
   },
   "outputs": [
    {
     "name": "stderr",
     "output_type": "stream",
     "text": [
      "C:\\Users\\IS71320\\Anaconda3\\lib\\site-packages\\pinecone\\index.py:4: TqdmExperimentalWarning: Using `tqdm.autonotebook.tqdm` in notebook mode. Use `tqdm.tqdm` instead to force console mode (e.g. in jupyter console)\n",
      "  from tqdm.autonotebook import tqdm\n"
     ]
    }
   ],
   "source": [
    "import pinecone\n",
    "from sentence_transformers import SentenceTransformer,util\n",
    "import requests\n",
    "from bs4 import BeautifulSoup\n",
    "import time\n",
    "from urllib.parse import urljoin\n",
    "import re\n",
    "model = SentenceTransformer('all-MiniLM-L6-v2') #384 dimensional"
   ]
  },
  {
   "cell_type": "markdown",
   "metadata": {},
   "source": [
    "### Implement Scraper"
   ]
  },
  {
   "cell_type": "code",
   "execution_count": 48,
   "metadata": {},
   "outputs": [],
   "source": [
    "link = 'https://www.mutualofamerica.com/individuals/roth-ira'"
   ]
  },
  {
   "cell_type": "code",
   "execution_count": 51,
   "metadata": {},
   "outputs": [],
   "source": [
    "def get_html_content(url):\n",
    "    \"\"\"\n",
    "    Extract raw content from a single web page\n",
    "    \"\"\"\n",
    "    response = requests.get(url)\n",
    "    return response.content"
   ]
  },
  {
   "cell_type": "code",
   "execution_count": 52,
   "metadata": {},
   "outputs": [],
   "source": [
    "def get_text_chunks(html_content):\n",
    "    \"\"\"\n",
    "    Turn HTML content into text chunks\n",
    "    \"\"\"\n",
    "    soup = BeautifulSoup(html)\n",
    "    text = soup.get_text()\n",
    "\n",
    "    lines = (line.strip() for line in text.splitlines())\n",
    "    chunks = (phrase.strip() for line in lines for phrase in line.split(\"  \"))\n",
    "    \n",
    "    return chunks"
   ]
  },
  {
   "cell_type": "code",
   "execution_count": 53,
   "metadata": {},
   "outputs": [],
   "source": [
    "def filter_text_chunks(chunks, min_length = 50):\n",
    "    \"\"\"\n",
    "    Get list of relevant text chunks\n",
    "    \"\"\"\n",
    "    out_list = [chunk for chunk in chunks if chunk]\n",
    "    final_list = [t for t in out_list if len(t) > min_length]\n",
    "    \n",
    "    return final_list"
   ]
  },
  {
   "cell_type": "code",
   "execution_count": 54,
   "metadata": {},
   "outputs": [],
   "source": [
    "def get_filtered_text(url):\n",
    "\n",
    "    html_content = get_html_content(url)\n",
    "\n",
    "    chunks = get_text_chunks(html_content)\n",
    "\n",
    "    final_list = filter_text_chunks(chunks)\n",
    "    \n",
    "    return final_list"
   ]
  },
  {
   "cell_type": "code",
   "execution_count": 55,
   "metadata": {
    "scrolled": true
   },
   "outputs": [
    {
     "data": {
      "text/plain": [
       "['We offer a wide variety of retirement plan solutions customized to your organization and needs.',\n",
       " 'Individual retirement savings products designed to help you achieve a rewarding retirement.',\n",
       " 'See our retirement planning resources - calculators, glossary of terms, contribution limit information and more.',\n",
       " 'Learn about Mutual of America. Our history, who we are, our financial strength and annual reports.',\n",
       " 'For employers looking to change or start a new retirement plan',\n",
       " 'For employers looking to change or start a new retirement plan',\n",
       " 'The Mutual of America Roth IRA is a type of individual retirement variable annuity contract that generally allows you to receive distributions on a tax-free basis. The Roth IRA does not provide up-front income tax deductions for contributions, like there can be with a Traditional IRA. All contributions to a Roth IRA are made on an after-tax basis, but the Roth IRA provides the opportunity for tax-free investment earnings and tax-free distributions if qualified distributions are made.Unlike other types of IRAs, you are not required to begin taking a distribution at any specific age, and you can continue to make contributions as long as you have earned income, even after age 70½. Mandatory distributions are only required to be made after the death of the Roth IRA contractholder.',\n",
       " 'Single taxpayers with a modified Adjusted Gross Income (AGI)* of $138,000 or less in 2023 can contribute up to $6,500 per year.',\n",
       " 'For single taxpayers with an AGI between $138,000 and $153,000, the maximum allowable contribution to a Roth IRA is proportionately reduced.',\n",
       " 'Single taxpayers with an AGI of $153,000 or more in 2023 may not contribute.',\n",
       " 'Married taxpayers filing joint tax returns with a modified AGI of $218,000 or less in 2023 can contribute up to $6,500 each per year, even if only one spouse has compensation.',\n",
       " 'For married taxpayers filing joint returns with a modified AGI between $218,000 and $228,000 for 2023, the maximum allowable contribution to the Roth IRA is proportionately reduced.',\n",
       " 'Married taxpayers filing joint returns with an AGI of more than $228,000 in 2023 may not contribute to a Roth IRA.',\n",
       " 'Married taxpayers filing separate returns cannot contribute to a Roth IRA.',\n",
       " '*The modified AGI is used for calculating Roth IRA contribution limits. Please refer to Internal Revenue Code Publication 590 or consult with your tax adviser.',\n",
       " 'The maximum contribution in 2023 is the lesser of $6,500 or 100% of your compensation if you are single, or the lesser of $6,500 for each spouse or 100% of your combined compensation if you are a married couple filing jointly.',\n",
       " \"Both maximums apply to an individual's total contributions to all Roth IRAs (except rollovers) and are reduced by any contributions you may have made to any other types of IRAs.\",\n",
       " 'The annual dollar limitation increase for 2023 and subsequent years is $6,500, indexed for inflation in $500 increments. Rules limiting Roth IRA contributions based on the modified AGI apply.',\n",
       " 'REMINDER:\\xa0Indexing does not automatically increase the limit each year; increases only apply when the inflation-adjusted limit equals or exceeds the next incremental amount.',\n",
       " 'Catch-up contributions allow individuals who have reached age 50 to contribute an additional amount to their IRA in that year. In 2023, the catch-up amount is $1,000.',\n",
       " 'Thus, for example, the IRA contribution limits for 2023 are:',\n",
       " 'Get one-on-one assistance from a Rollover Specialist by calling 866.939.7655, Monday through Friday, 9:00\\xa0a.m. to 8:00\\xa0p.m.\\xa0ET.',\n",
       " 'You should consider the investment objectives, risks, and charges and expenses of the variable annuity contract and the underlying investment funds carefully before investing. This and other information is contained in the contract prospectus and underlying funds prospectuses and summary prospectuses, which can be obtained by calling 800.468.3785 or visiting mutualofamerica.com. Read them carefully before investing.',\n",
       " \"Mutual of America's IRAs are individual variable annuity contracts and are suitable for long-term investing, particularly for retirement savings. The value of a variable annuity contract will fluctuate depending on the performance of the Separate Account investment funds you choose. Upon redemption, you could receive more or less than the principal amount invested. A variable annuity contract provides no additional tax-deferred treatment of benefits beyond the treatment provided to any qualified retirement plan or IRA by applicable tax law. You should consider a variable annuity contract's other features before making a decision.Form IRA-2004 or applicable state variation\",\n",
       " '© Copyright 1999-2023 Mutual of America Life Insurance Company.',\n",
       " 'Securities offered by Mutual of America Securities LLC, Member FINRA/SIPC. Insurance products are issued by Mutual of America Life Insurance Company, 320 Park Avenue, New York, NY 10022-6839.',\n",
       " 'Mutual of America® and Mutual of America ezRollover® are registered service marks of Mutual of America Life Insurance Company.']"
      ]
     },
     "execution_count": 55,
     "metadata": {},
     "output_type": "execute_result"
    }
   ],
   "source": [
    "get_filtered_text(link)"
   ]
  },
  {
   "cell_type": "code",
   "execution_count": null,
   "metadata": {},
   "outputs": [],
   "source": []
  },
  {
   "cell_type": "code",
   "execution_count": null,
   "metadata": {},
   "outputs": [],
   "source": []
  }
 ],
 "metadata": {
  "colab": {
   "provenance": []
  },
  "kernelspec": {
   "display_name": "Python 3 (ipykernel)",
   "language": "python",
   "name": "python3"
  },
  "language_info": {
   "codemirror_mode": {
    "name": "ipython",
    "version": 3
   },
   "file_extension": ".py",
   "mimetype": "text/x-python",
   "name": "python",
   "nbconvert_exporter": "python",
   "pygments_lexer": "ipython3",
   "version": "3.9.13"
  }
 },
 "nbformat": 4,
 "nbformat_minor": 1
}
